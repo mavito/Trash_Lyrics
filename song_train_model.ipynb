{
  "nbformat": 4,
  "nbformat_minor": 0,
  "metadata": {
    "colab": {
      "name": "song_train_model.ipynb",
      "provenance": [],
      "collapsed_sections": []
    },
    "kernelspec": {
      "name": "python3",
      "display_name": "Python 3"
    },
    "accelerator": "GPU"
  },
  "cells": [
    {
      "cell_type": "code",
      "metadata": {
        "id": "m87kNdLpjcgY",
        "colab_type": "code",
        "colab": {}
      },
      "source": [
        "import numpy as np\n",
        "import pandas as pd\n",
        "import sys \n",
        "from google.colab import files\n",
        "from tensorflow.python.keras.models import Sequential\n",
        "from tensorflow.python.keras.layers import LSTM, Activation, Flatten, Dropout, Dense\n",
        "from tensorflow.python.keras.callbacks import ModelCheckpoint\n",
        "from tensorflow.python.keras.utils import np_utils"
      ],
      "execution_count": 0,
      "outputs": []
    },
    {
      "cell_type": "code",
      "metadata": {
        "id": "21Da5NsU19T0",
        "colab_type": "code",
        "colab": {
          "base_uri": "https://localhost:8080/",
          "height": 34
        },
        "outputId": "27224863-ee99-4462-9d52-6de64b82047e"
      },
      "source": [
        "artist = input()"
      ],
      "execution_count": 2,
      "outputs": [
        {
          "output_type": "stream",
          "text": [
            "selena gomez\n"
          ],
          "name": "stdout"
        }
      ]
    },
    {
      "cell_type": "code",
      "metadata": {
        "id": "7dHa4dG-jsiX",
        "colab_type": "code",
        "colab": {}
      },
      "source": [
        "textFileName = '/content/%s.txt'%artist\n",
        "raw_text = open(textFileName,'r',encoding='UTF-8').read()\n",
        "raw_text = raw_text.lower()"
      ],
      "execution_count": 0,
      "outputs": []
    },
    {
      "cell_type": "code",
      "metadata": {
        "id": "BsByk8_NkCCa",
        "colab_type": "code",
        "colab": {}
      },
      "source": [
        "chars = sorted(list(set(raw_text)))\n",
        "char_to_int = dict((c, i) for i, c in enumerate(chars))\n",
        "int_to_char = dict((i, c) for i, c in enumerate(chars))"
      ],
      "execution_count": 0,
      "outputs": []
    },
    {
      "cell_type": "code",
      "metadata": {
        "id": "WoeZe7txkFWX",
        "colab_type": "code",
        "outputId": "b11ddc14-09f4-4fcb-daea-55363f418235",
        "colab": {
          "base_uri": "https://localhost:8080/",
          "height": 50
        }
      },
      "source": [
        "n_chars = len(raw_text)\n",
        "n_vocab = len(chars)"
      ],
      "execution_count": 4,
      "outputs": [
        {
          "output_type": "stream",
          "text": [
            "Total Characters:  19829\n",
            "Total Vocab:  36\n"
          ],
          "name": "stdout"
        }
      ]
    },
    {
      "cell_type": "code",
      "metadata": {
        "id": "unSs9_R4kNcC",
        "colab_type": "code",
        "outputId": "74ffb42d-73f5-43cf-93b8-8457f1a6a0b6",
        "colab": {
          "base_uri": "https://localhost:8080/",
          "height": 34
        }
      },
      "source": [
        "seq_length = 100\n",
        "dataX =[]\n",
        "dataY= []\n",
        "for i in range(0, n_chars - seq_length, 1):\n",
        "\tseq_in = raw_text[i:i + seq_length]\n",
        "\tseq_out = raw_text[i + seq_length]\n",
        "\tdataX.append([char_to_int[char] for char in seq_in])\n",
        "\tdataY.append(char_to_int[seq_out])\n",
        "n_patterns = len(dataX)\n",
        "print(\"Total Patterns: \", n_patterns)"
      ],
      "execution_count": 5,
      "outputs": [
        {
          "output_type": "stream",
          "text": [
            "Total Patterns:  19729\n"
          ],
          "name": "stdout"
        }
      ]
    },
    {
      "cell_type": "code",
      "metadata": {
        "id": "O_CILrtUkW7L",
        "colab_type": "code",
        "colab": {}
      },
      "source": [
        "X = np.reshape(dataX, (n_patterns, seq_length, 1))\n",
        "X = X / float(n_vocab)\n",
        "y = np_utils.to_categorical(dataY)"
      ],
      "execution_count": 0,
      "outputs": []
    },
    {
      "cell_type": "code",
      "metadata": {
        "id": "XaIevAOF5QuE",
        "colab_type": "code",
        "colab": {}
      },
      "source": [
        "model = Sequential()\n",
        "model.add(LSTM(256, input_shape=(X.shape[1], X.shape[2]), return_sequences=True))\n",
        "model.add(Dropout(0.2))\n",
        "model.add(LSTM(256))\n",
        "model.add(Dropout(0.4))\n",
        "model.add(Dense(y.shape[1], activation='softmax'))\n",
        "model.compile(loss='categorical_crossentropy', optimizer='adam')"
      ],
      "execution_count": 0,
      "outputs": []
    },
    {
      "cell_type": "code",
      "metadata": {
        "id": "uv1nsM0V5ULr",
        "colab_type": "code",
        "colab": {}
      },
      "source": [
        "filepath=\"/content/%s.hdf5\"%artist\n",
        "checkpoint = ModelCheckpoint(filepath, monitor='loss', verbose=1, save_best_only=True, mode='min')\n",
        "callbacks_list = [checkpoint]"
      ],
      "execution_count": 0,
      "outputs": []
    },
    {
      "cell_type": "code",
      "metadata": {
        "id": "rWwEKT-WkcVN",
        "colab_type": "code",
        "outputId": "0048cfe8-6356-4c32-d77a-471deefd1cbc",
        "colab": {
          "base_uri": "https://localhost:8080/",
          "height": 319
        }
      },
      "source": [
        "model.fit(X, y, epochs=50, batch_size=64, callbacks=callbacks_list)"
      ],
      "execution_count": 0,
      "outputs": [
        {
          "output_type": "stream",
          "text": [
            "Epoch 1/50\n",
            "307/309 [============================>.] - ETA: 0s - loss: 2.9616\n",
            "Epoch 00001: loss improved from inf to 2.96162, saving model to /content/the weeknd.hdf5\n",
            "309/309 [==============================] - 6s 19ms/step - loss: 2.9616\n",
            "Epoch 2/50\n",
            "307/309 [============================>.] - ETA: 0s - loss: 2.8763\n",
            "Epoch 00002: loss improved from 2.96162 to 2.87654, saving model to /content/the weeknd.hdf5\n",
            "309/309 [==============================] - 6s 19ms/step - loss: 2.8765\n",
            "Epoch 3/50\n",
            "307/309 [============================>.] - ETA: 0s - loss: 2.7537\n",
            "Epoch 00003: loss improved from 2.87654 to 2.75194, saving model to /content/the weeknd.hdf5\n",
            "309/309 [==============================] - 6s 19ms/step - loss: 2.7519\n",
            "Epoch 4/50\n",
            "307/309 [============================>.] - ETA: 0s - loss: 2.6175\n",
            "Epoch 00004: loss improved from 2.75194 to 2.61538, saving model to /content/the weeknd.hdf5\n",
            "309/309 [==============================] - 6s 19ms/step - loss: 2.6154\n",
            "Epoch 5/50\n",
            " 43/309 [===>..........................] - ETA: 4s - loss: 2.5471"
          ],
          "name": "stdout"
        }
      ]
    },
    {
      "cell_type": "code",
      "metadata": {
        "id": "5G8rsHk3khdS",
        "colab_type": "code",
        "colab": {}
      },
      "source": [
        "filename = \"/content/%s.hdf5\"%artist\n",
        "model.load_weights(filename)\n",
        "model.compile(loss='categorical_crossentropy', optimizer='adam')"
      ],
      "execution_count": 0,
      "outputs": []
    },
    {
      "cell_type": "code",
      "metadata": {
        "id": "8cgLtySijOyn",
        "colab_type": "code",
        "colab": {}
      },
      "source": [
        "files.download(\"/content/%s.hdf5\"%artist)"
      ],
      "execution_count": 0,
      "outputs": []
    }
  ]
}